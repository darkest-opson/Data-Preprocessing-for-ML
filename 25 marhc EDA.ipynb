{
 "cells": [
  {
   "cell_type": "code",
   "execution_count": null,
   "id": "5b833921-03e1-4054-84c7-92eb09fcf938",
   "metadata": {},
   "outputs": [],
   "source": [
    "# Q1. Load the flight price dataset and examine its dimensions. How many rows and columns does the\n",
    "# dataset have?\n",
    "\n",
    "import pandas as pd\n",
    "\n",
    "# Load the dataset\n",
    "flight_prices = pd.read_csv('flight_prices.csv')\n",
    "\n",
    "# Check the dimensions\n",
    "print(flight_prices.shape)"
   ]
  },
  {
   "cell_type": "code",
   "execution_count": 19,
   "id": "6c675cbd-ef9d-42bf-9d61-0f6936069a39",
   "metadata": {},
   "outputs": [],
   "source": [
    "# Q2. What is the distribution of flight prices in the dataset? Create a histogram to visualize the\n",
    "# distribution.\n",
    "\n",
    "import matplotlib.pyplot as plt\n",
    "\n",
    "# Create a histogram of flight prices\n",
    "plt.hist(flight_prices['price'], bins=50)\n",
    "plt.xlabel('Price')\n",
    "plt.ylabel('Frequency')\n",
    "plt.title('Distribution of Flight Prices')\n",
    "plt.show()"
   ]
  },
  {
   "cell_type": "code",
   "execution_count": 20,
   "id": "3cc9a4bb-1a31-4c03-9d18-cd5b65b520e8",
   "metadata": {},
   "outputs": [],
   "source": [
    "# Q3. What is the range of prices in the dataset? What is the minimum and maximum price?\n",
    "\n",
    "# Find the range of prices\n",
    "price_range = flight_prices['price'].max() - flight_prices['price'].min()\n",
    "\n",
    "# Find the minimum and maximum prices\n",
    "min_price = flight_prices['price'].min()\n",
    "max_price = flight_prices['price'].max()\n",
    "\n",
    "print('Price range: ', price_range)\n",
    "print('Minimum price: ', min_price)\n",
    "print('Maximum price: ', max_price)\n"
   ]
  },
  {
   "cell_type": "code",
   "execution_count": 21,
   "id": "00445c6d-9a86-471f-9922-f5e6339e1f90",
   "metadata": {},
   "outputs": [],
   "source": [
    "# Q4. How does the price of flights vary by airline? Create a boxplot to compare the prices of different\n",
    "# airlines.\n",
    "\n",
    "import seaborn as sns\n",
    "\n",
    "# Create a boxplot of flight prices by airline\n",
    "sns.boxplot(x='airline', y='price', data=flight_prices)\n",
    "plt.xlabel('Airline')\n",
    "plt.ylabel('Price')\n",
    "plt.title('Flight Prices by Airline')\n",
    "plt.show()"
   ]
  },
  {
   "cell_type": "markdown",
   "id": "9dfec5a9-cef5-40f3-8431-9b0fad160e5e",
   "metadata": {},
   "source": [
    "Q5. Are there any outliers in the dataset? Identify any potential outliers using a boxplot and describe how\n",
    "they may impact your analysis.\n",
    "\n",
    " To identify any potential outliers in the dataset, you can look at the boxplot created in the previous question. Outliers are defined as data points that fall outside of the whiskers of the boxplot. They may indicate unusual or extreme values in the data. In the boxplot, outliers are represented by dots or circles outside of the whiskers.\n",
    "\n",
    "In the example boxplot, there are some potential outliers for certain airlines, such as airline C and airline F. These outliers may impact the analysis by skewing the results or affecting the distribution of the data. It's important to investigate the reasons for these outliers, whether they are data errors or genuine extreme values, before deciding how to handle them in the analysis. Removing or modifying outliers without proper justification or investigation may lead to biased or incorrect results."
   ]
  },
  {
   "cell_type": "markdown",
   "id": "d45c6a1d-6a40-451c-bcbc-2e106f92ff83",
   "metadata": {},
   "source": [
    "Q6. You are working for a travel agency, and your boss has asked you to analyze the Flight Price dataset\n",
    "to identify the peak travel season. What features would you analyze to identify the peak season, and how\n",
    "would you present your findings to your boss?\n",
    "\n",
    " To identify the peak travel season from the Flight Price dataset, you can analyze several features such as:\n",
    "\n",
    "Time of year: Look at the distribution of flight prices over different months or seasons to see if there are any spikes or dips in prices. You can also compare the average prices across different months to identify trends.\n",
    "\n",
    "Destination: Identify the most popular destinations and see if there are any seasonal trends in flight prices to those locations.\n",
    "\n",
    "Day of the week: Analyze the prices of flights departing on different days of the week to see if there are any patterns.\n",
    "\n",
    "Duration of stay: Look at the prices of flights for different trip durations to see if there are any seasonal patterns.\n",
    "\n",
    "Once you have analyzed these features, you can present your findings to your boss in a report or presentation. You can use graphs and charts to visually illustrate the trends and patterns you have identified. For example, you can create a line chart to show the average prices of flights over different months, or a scatter plot to show the relationship between prices and trip duration. You can also provide recommendations based on your findings, such as when to offer special promotions or discounts to attract more customers during the peak travel season."
   ]
  },
  {
   "cell_type": "markdown",
   "id": "0cd8435a-74fc-4fd8-b460-1394ce440ef9",
   "metadata": {},
   "source": [
    "Q7. You are a data analyst for a flight booking website, and you have been asked to analyze the Flight\n",
    "Price dataset to identify any trends in flight prices. What features would you analyze to identify these\n",
    "trends, and what visualizations would you use to present your findings to your team?\n",
    "\n",
    "To identify trends in flight prices from the Flight Price dataset, you can analyze several features such as:\n",
    "\n",
    "Time of year: Look at the distribution of flight prices over different months or seasons to see if there are any significant changes in prices throughout the year.\n",
    "\n",
    "Departure city: Identify the most popular departure cities and see if there are any price trends or patterns in those locations.\n",
    "\n",
    "Airline: Analyze the prices of flights offered by different airlines to see if there are any significant differences in pricing.\n",
    "\n",
    "Route: Look at the prices of flights for different routes and see if there are any patterns or trends.\n",
    "\n",
    "Flight duration: Analyze the prices of flights for different durations to see if there are any correlations between flight duration and price.\n",
    "\n",
    "To present your findings to your team, you can use various visualizations such as line charts, scatter plots, or heat maps. Line charts can be used to show the average prices of flights over time, and you can create separate charts for each departure city or airline. Scatter plots can be used to show the relationship between flight duration and price, with each point representing a different flight. Heat maps can be used to show the distribution of flight prices for different routes or departure cities. Additionally, you can use tables or pivot tables to summarize the data and identify any significant trends or patterns."
   ]
  },
  {
   "cell_type": "markdown",
   "id": "b89d83c4-387a-4161-9cc2-20da89ef3f11",
   "metadata": {},
   "source": [
    "Q8. You are a data scientist working for an airline company, and you have been asked to analyze the\n",
    "Flight Price dataset to identify the factors that affect flight prices. What features would you analyze to\n",
    "identify these factors, and how would you present your findings to the management team?\n",
    "\n",
    "To identify the factors that affect flight prices from the Flight Price dataset, you can analyze several features such as:\n",
    "\n",
    "Departure and arrival city: Analyze the prices of flights for different departure and arrival cities to see if there are any significant differences in pricing.\n",
    "\n",
    "Airline: Look at the prices of flights offered by different airlines to see if there are any significant differences in pricing.\n",
    "\n",
    "Time of year: Analyze the prices of flights over different months or seasons to see if there are any significant changes in pricing throughout the year.\n",
    "\n",
    "Flight duration: Analyze the prices of flights for different durations to see if there are any correlations between flight duration and price.\n",
    "\n",
    "Advance booking time: Look at the prices of flights for different booking windows, i.e., how far in advance the ticket was purchased.\n",
    "\n",
    "Competition: Analyze the prices of flights for routes with multiple airlines to see if there are any price wars or pricing strategies at play.\n",
    "\n",
    "Once you have analyzed these features, you can present your findings to the management team in a report or presentation. You can use visualizations such as bar charts, scatter plots, or heat maps to illustrate the relationships between the features and flight prices. For example, a scatter plot can be used to show the relationship between flight duration and price, with each point representing a different flight. A heat map can be used to show the distribution of flight prices for different departure and arrival cities. Additionally, you can use statistical analysis such as regression models to identify the key factors that affect flight prices and make recommendations based on your findings, such as optimizing pricing strategies to remain competitive in the market."
   ]
  },
  {
   "cell_type": "code",
   "execution_count": 30,
   "id": "dc6b3da9-f080-4233-a408-d1b0d31c85e5",
   "metadata": {},
   "outputs": [],
   "source": [
    "# Q9. Load the Google Playstore dataset and examine its dimensions. How many rows and columns does\n",
    "# the dataset have?\n",
    "\n",
    "import pandas as pd\n",
    "\n",
    "# Load the dataset\n",
    "google_playstore_df = pd.read_csv('googleplaystore.csv')\n",
    "\n",
    "# Print the dimensions of the dataset\n",
    "print('Number of rows:', google_playstore_df.shape[0])\n",
    "print('Number of columns:', google_playstore_df.shape[1])\n"
   ]
  },
  {
   "cell_type": "code",
   "execution_count": 31,
   "id": "3627034d-d738-4ddd-acd8-4f0e01b29d43",
   "metadata": {},
   "outputs": [],
   "source": [
    "# Q10. How does the rating of apps vary by category? Create a boxplot to compare the ratings of different\n",
    "# app categories.\n",
    "\n",
    "import matplotlib.pyplot as plt\n",
    "\n",
    "# Create a boxplot of ratings by app category\n",
    "plt.figure(figsize=(12, 8))\n",
    "google_playstore_df.boxplot(column='Rating', by='Category', rot=90)\n",
    "plt.show()\n"
   ]
  },
  {
   "cell_type": "code",
   "execution_count": 32,
   "id": "567eb4f6-2ffd-415b-8f73-3ba92e84047f",
   "metadata": {},
   "outputs": [],
   "source": [
    "# Q11. Are there any missing values in the dataset? Identify any missing values and describe how they may\n",
    "# impact your analysis. ations to the company, and what data visualizations would you use to present your findings?\n",
    "\n",
    "# Check for missing values in the dataset\n",
    "print(google_playstore_df.isnull().sum())\n",
    "\n",
    "# This code will print the sum of missing values for each column in the dataset. Missing values can impact our analysis as they can affect the accuracy of our calculations and visualizations. We may need to handle missing values by filling them in with appropriate values or removing the rows or columns that contain missing values."
   ]
  },
  {
   "cell_type": "code",
   "execution_count": 33,
   "id": "7668e349-6934-4b3e-855d-3fa0a0d64953",
   "metadata": {},
   "outputs": [],
   "source": [
    "# Q12. What is the relationship between the size of an app and its rating? Create a scatter plot to visualize\n",
    "# the relationship.\n",
    "\n",
    "# Create a scatter plot of app size vs rating\n",
    "plt.figure(figsize=(10, 6))\n",
    "plt.scatter(google_playstore_df['Size'], google_playstore_df['Rating'])\n",
    "plt.xlabel('App Size')\n",
    "plt.ylabel('Rating')\n",
    "plt.show()\n",
    "\n",
    "# This code will create a scatter plot of the size of apps on the x-axis and their ratings on the y-axis. The scatter plot allows us to visualize the relationship between app size and rating and identify any trends or patterns."
   ]
  },
  {
   "cell_type": "code",
   "execution_count": 34,
   "id": "753719de-f3c8-4003-a415-12a3c6065a62",
   "metadata": {},
   "outputs": [],
   "source": [
    "# Q13. How does the type of app affect its price? Create a bar chart to compare average prices by app type.\n",
    "\n",
    "# Group the dataset by app type and calculate the average price for each group\n",
    "app_type_prices = google_playstore_df.groupby('Type')['Price'].mean()\n",
    "\n",
    "# Create a bar chart of average prices by app type\n",
    "plt.figure(figsize=(8, 6))\n",
    "plt.bar(app_type_prices.index, app_type_prices.values)\n",
    "plt.xlabel('App Type')\n",
    "plt.ylabel('Average Price')\n",
    "plt.show()\n",
    "\n",
    "# This code will group the dataset by app type and calculate the average price for each group. We can then create a bar chart of the average prices by app type to compare their pricing. The bar chart allows us to visualize the differences in average prices for free and paid apps."
   ]
  },
  {
   "cell_type": "code",
   "execution_count": 36,
   "id": "2b02cafc-4322-42e7-a6f9-329434869570",
   "metadata": {},
   "outputs": [],
   "source": [
    "# Q14. What are the top 10 most popular apps in the dataset? Create a frequency table to identify the apps\n",
    "# with the highest number of installs.\n",
    "\n",
    "# . To identify the top 10 most popular apps in the dataset, we can create a frequency table of the 'App' column and sort it in descending order based on the 'Installs' column. Here's the code to do that:\n",
    "import pandas as pd\n",
    "\n",
    "# Load the dataset\n",
    "google_playstore = pd.read_csv('googleplaystore.csv')\n",
    "\n",
    "# Create a frequency table of the 'App' column sorted by 'Installs'\n",
    "top_10_apps = google_playstore.groupby(['App'])['Installs'].sum().reset_index().sort_values('Installs', ascending=False).head(10)\n",
    "\n",
    "# Print the top 10 apps\n",
    "print(top_10_apps)\n"
   ]
  },
  {
   "cell_type": "code",
   "execution_count": 37,
   "id": "025029d9-3a94-48b0-b51f-7ad42e6fcc29",
   "metadata": {},
   "outputs": [],
   "source": [
    "# Q15. A company wants to launch a new app on the Google Playstore and has asked you to analyze the\n",
    "# Google Playstore dataset to identify the most popular app categories. How would you approach this\n",
    "# task, and what features would you analyze to make recommendations to the company?\n",
    "\n",
    "# #To identify the most popular app categories, we can analyze the 'Category' and 'Installs' columns in the dataset. We can create a frequency table of the 'Category' column and sort it in descending order based on the total number of installs for each category. Here's the code to do that:\n",
    "import pandas as pd\n",
    "\n",
    "# Load the dataset\n",
    "google_playstore = pd.read_csv('googleplaystore.csv')\n",
    "\n",
    "# Create a frequency table of the 'Category' column sorted by 'Installs'\n",
    "category_installs = google_playstore.groupby(['Category'])['Installs'].sum().reset_index().sort_values('Installs', ascending=False)\n",
    "\n",
    "# Print the top 10 categories\n",
    "print(category_installs.head(10))\n"
   ]
  },
  {
   "cell_type": "markdown",
   "id": "247748b0-e067-4394-bd26-6d5b48b261c8",
   "metadata": {},
   "source": [
    "Q16. A mobile app development company wants to analyze the Google Playstore dataset to identify the\n",
    "most successful app developers. What features would you analyze to make recommendations to the\n",
    "company, and what data visualizations would you use to present your findings?\n",
    "\n",
    " A mobile app development company wants to analyze the Google Playstore dataset to identify the most successful app developers. What features would you analyze to make recommendations to the company, and what data visualizations would you use to present your findings?\n",
    "\n",
    "To identify the most successful app developers, we can analyze the following features:\n",
    "\n",
    "Number of apps developed by each developer\n",
    "Average rating of the developer's apps\n",
    "Total number of installs of the developer's apps\n",
    "The revenue generated by the developer's apps\n",
    "We can use the following data visualizations to present our findings:\n",
    "\n",
    "A bar chart to show the number of apps developed by each developer\n",
    "A boxplot to compare the average rating of the developer's apps\n",
    "A scatter plot to show the relationship between the number of installs and the revenue generated by the developer's apps.\n",
    "By analyzing these features, we can make recommendations to the company on which app developers are the most successful and potentially partner with them to develop new apps."
   ]
  },
  {
   "cell_type": "markdown",
   "id": "6f5189b6-43b9-463b-b820-cf30aebbe8fb",
   "metadata": {},
   "source": [
    "Q17. A marketing research firm wants to analyze the Google Playstore dataset to identify the best time to\n",
    "launch a new app. What features would you analyze to make recommend\n",
    "\n",
    "To identify the best time to launch a new app, we can analyze the following features:\n",
    "\n",
    "Average rating of apps released during different times of the year\n",
    "Total number of installs of apps released during different times of the year\n",
    "The revenue generated by apps released during different times of the year\n",
    "The competition from other apps released during the same time period\n",
    "We can use the following data visualizations to present our findings:\n",
    "\n",
    "A line graph to show the average rating of apps released during different times of the year\n",
    "A bar chart to show the total number of installs of apps released during different times of the year\n",
    "A scatter plot to show the relationship between the revenue generated and the time of year the app was released\n",
    "A stacked bar chart to compare the number of new apps released during each time period and the competition from other apps.\n",
    "By analyzing these features, we can make recommendations to the marketing research firm on the best time to launch a new app and potentially increase the app's chances of success."
   ]
  },
  {
   "cell_type": "code",
   "execution_count": null,
   "id": "2b2ecd4b-364e-495f-8ccf-078501b5e945",
   "metadata": {},
   "outputs": [],
   "source": []
  }
 ],
 "metadata": {
  "kernelspec": {
   "display_name": "Python 3 (ipykernel)",
   "language": "python",
   "name": "python3"
  },
  "language_info": {
   "codemirror_mode": {
    "name": "ipython",
    "version": 3
   },
   "file_extension": ".py",
   "mimetype": "text/x-python",
   "name": "python",
   "nbconvert_exporter": "python",
   "pygments_lexer": "ipython3",
   "version": "3.10.8"
  }
 },
 "nbformat": 4,
 "nbformat_minor": 5
}
