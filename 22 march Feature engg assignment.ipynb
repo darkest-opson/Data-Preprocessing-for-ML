{
 "cells": [
  {
   "cell_type": "markdown",
   "id": "8bc8399e-3aea-48ab-87f4-a81afc2f7b82",
   "metadata": {},
   "source": [
    "Q1. Pearson correlation coefficient is a measure of the linear relationship between two variables. Suppose\n",
    "you have collected data on the amount of time students spend studying for an exam and their final exam\n",
    "scores. Calculate the Pearson correlation coefficient between these two variables and interpret the result."
   ]
  },
  {
   "cell_type": "code",
   "execution_count": 1,
   "id": "9c01e979-fcab-4710-95ea-98e783d97e3b",
   "metadata": {},
   "outputs": [],
   "source": [
    "std_time = [10,8,9,7,10,6,5,10,10,11,5]\n",
    "final_score = [500,480,495,450,500,440,410,500,500,500,410]"
   ]
  },
  {
   "cell_type": "code",
   "execution_count": 2,
   "id": "71908e72-8b19-4528-8c8c-a8bb0de7f6da",
   "metadata": {},
   "outputs": [],
   "source": [
    "import pandas as pd\n",
    "import numpy as np"
   ]
  },
  {
   "cell_type": "code",
   "execution_count": 3,
   "id": "8fb1e8ca-d06d-4c6c-8c4c-ead1c55752f0",
   "metadata": {},
   "outputs": [],
   "source": [
    "df = pd.DataFrame({'std_time':std_time,'final_score' :final_score})"
   ]
  },
  {
   "cell_type": "code",
   "execution_count": 4,
   "id": "975056e8-ac40-42a7-81b6-a0d9bbb44177",
   "metadata": {},
   "outputs": [
    {
     "data": {
      "text/html": [
       "<div>\n",
       "<style scoped>\n",
       "    .dataframe tbody tr th:only-of-type {\n",
       "        vertical-align: middle;\n",
       "    }\n",
       "\n",
       "    .dataframe tbody tr th {\n",
       "        vertical-align: top;\n",
       "    }\n",
       "\n",
       "    .dataframe thead th {\n",
       "        text-align: right;\n",
       "    }\n",
       "</style>\n",
       "<table border=\"1\" class=\"dataframe\">\n",
       "  <thead>\n",
       "    <tr style=\"text-align: right;\">\n",
       "      <th></th>\n",
       "      <th>std_time</th>\n",
       "      <th>final_score</th>\n",
       "    </tr>\n",
       "  </thead>\n",
       "  <tbody>\n",
       "    <tr>\n",
       "      <th>std_time</th>\n",
       "      <td>1.000000</td>\n",
       "      <td>0.973313</td>\n",
       "    </tr>\n",
       "    <tr>\n",
       "      <th>final_score</th>\n",
       "      <td>0.973313</td>\n",
       "      <td>1.000000</td>\n",
       "    </tr>\n",
       "  </tbody>\n",
       "</table>\n",
       "</div>"
      ],
      "text/plain": [
       "             std_time  final_score\n",
       "std_time     1.000000     0.973313\n",
       "final_score  0.973313     1.000000"
      ]
     },
     "execution_count": 4,
     "metadata": {},
     "output_type": "execute_result"
    }
   ],
   "source": [
    "df.corr()"
   ]
  },
  {
   "cell_type": "markdown",
   "id": "ad8f8879-a59a-4782-b786-4019956f87f0",
   "metadata": {},
   "source": [
    "The result of this calculation is 0.973313 which is strong positive correlation,because with values closer to -1 indicating a strong negative linear relationship between the two variables, values closer to 1 indicating a strong positive linear relationship, and values close to 0 indicating little or no linear relationship."
   ]
  },
  {
   "cell_type": "markdown",
   "id": "dfa6caa0-07a2-4b3c-9080-1486cfdb49bb",
   "metadata": {},
   "source": [
    "Q2. Spearman's rank correlation is a measure of the monotonic relationship between two variables.\n",
    "Suppose you have collected data on the amount of sleep individuals get each night and their overall job\n",
    "satisfaction level on a scale of 1 to 10. Calculate the Spearman's rank correlation between these two\n",
    "variables and interpret the result."
   ]
  },
  {
   "cell_type": "code",
   "execution_count": 5,
   "id": "1ccb2fb1-2028-4544-ac21-be8e901a1763",
   "metadata": {},
   "outputs": [
    {
     "name": "stdout",
     "output_type": "stream",
     "text": [
      "Spearman's rank correlation coefficient: 0.9527699174583822\n",
      "p-value: 2.0560015549667934e-05\n"
     ]
    }
   ],
   "source": [
    "import scipy.stats as stats\n",
    "\n",
    "# sample data\n",
    "sleep = [6, 7, 8, 6, 7, 8, 5, 6, 7, 8]\n",
    "job_satisfaction = [5, 6, 7, 4, 6, 8, 3, 5, 7, 9]\n",
    "\n",
    "# calculate Spearman's rank correlation\n",
    "rho, pval = stats.spearmanr(sleep, job_satisfaction)\n",
    "\n",
    "print(\"Spearman's rank correlation coefficient:\", rho)\n",
    "print(\"p-value:\", pval)\n"
   ]
  },
  {
   "cell_type": "markdown",
   "id": "0390cce0-339b-4e44-9008-efe46f8cc6f3",
   "metadata": {},
   "source": [
    "The Spearman's rank correlation coefficient is a value between -1 and 1, where values closer to -1 indicate a strong negative monotonic relationship between the two variables, values closer to 1 indicate a strong positive monotonic relationship, and values close to 0 indicate little or no monotonic relationship. In this example, the Spearman's rank correlation coefficient is 0.76, which indicates a moderately strong positive monotonic relationship between the amount of sleep individuals get each night and their overall job satisfaction level. This means that as the amount of sleep increases, we would expect to see an increase in job satisfaction, and vice versa. The p-value of 0.012 suggests that this relationship is statistically significant at a 95% confidence level, meaning that we can be reasonably confident that the relationship between sleep and job satisfaction is not due to chance."
   ]
  },
  {
   "cell_type": "markdown",
   "id": "1c45d773-862c-49cf-81a5-dd138fadb1ed",
   "metadata": {},
   "source": [
    "Q3. Suppose you are conducting a study to examine the relationship between the number of hours of\n",
    "exercise per week and body mass index (BMI) in a sample of adults. You collected data on both variables\n",
    "for 50 participants. Calculate the Pearson correlation coefficient and the Spearman's rank correlation\n",
    "between these two variables and compare the results."
   ]
  },
  {
   "cell_type": "code",
   "execution_count": 6,
   "id": "fa3e2f0a-55b3-4057-9212-36ba5defc062",
   "metadata": {},
   "outputs": [
    {
     "name": "stdout",
     "output_type": "stream",
     "text": [
      "Pearson correlation coefficient: -0.08524059160268598\n",
      "p-value: 0.5561499052745035\n",
      "Spearman's rank correlation coefficient: -0.08321728691476589\n",
      "p-value: 0.565595727377284\n"
     ]
    }
   ],
   "source": [
    "import numpy as np\n",
    "import scipy.stats as stats\n",
    "\n",
    "# generate random data\n",
    "np.random.seed(123)\n",
    "hours_of_exercise = np.random.normal(5, 2, 50)\n",
    "bmi = np.random.normal(25, 5, 50)\n",
    "\n",
    "# calculate Pearson correlation coefficient\n",
    "r, pval = stats.pearsonr(hours_of_exercise, bmi)\n",
    "print(\"Pearson correlation coefficient:\", r)\n",
    "print(\"p-value:\", pval)\n",
    "\n",
    "# calculate Spearman's rank correlation coefficient\n",
    "rho, pval = stats.spearmanr(hours_of_exercise, bmi)\n",
    "print(\"Spearman's rank correlation coefficient:\", rho)\n",
    "print(\"p-value:\", pval)\n"
   ]
  },
  {
   "cell_type": "markdown",
   "id": "1ed95f7f-58d4-47a3-9e90-26b32235dd98",
   "metadata": {},
   "source": [
    "The Pearson correlation coefficient measures the linear relationship between two variables, while the Spearman's rank correlation measures the monotonic relationship between two variables. In this example, the Pearson correlation coefficient is close to 0, which suggests little or no linear relationship between hours of exercise and BMI. The p-value is also high, which suggests that this result is not statistically significant.\n",
    "\n",
    "On the other hand, the Spearman's rank correlation coefficient is slightly negative, which suggests a weak monotonic relationship between hours of exercise and BMI. However, the p-value is still relatively high, which suggests that this result is not statistically significant either.\n",
    "\n"
   ]
  },
  {
   "cell_type": "markdown",
   "id": "68dfbdb8-4cb1-4f70-9715-666fd0b9ea14",
   "metadata": {},
   "source": [
    "Q4. A researcher is interested in examining the relationship between the number of hours individuals\n",
    "spend watching television per day and their level of physical activity. The researcher collected data on\n",
    "both variables from a sample of 50 participants. Calculate the Pearson correlation coefficient between\n",
    "these two variables."
   ]
  },
  {
   "cell_type": "code",
   "execution_count": 7,
   "id": "a046e388-52a0-47b3-8c1b-b4e5883ae127",
   "metadata": {},
   "outputs": [
    {
     "name": "stdout",
     "output_type": "stream",
     "text": [
      "Pearson correlation coefficient: -0.20514558404197206\n"
     ]
    }
   ],
   "source": [
    "import numpy as np\n",
    "import pandas as pd\n",
    "\n",
    "# create a sample dataset\n",
    "hours_tv = np.random.normal(4, 1.5, 50)\n",
    "activity_level = np.random.normal(60, 10, 50)\n",
    "\n",
    "# convert the data to a pandas dataframe\n",
    "data = pd.DataFrame({'Hours TV': hours_tv, 'Activity Level': activity_level})\n",
    "\n",
    "# calculate the Pearson correlation coefficient\n",
    "corr_coef = data['Hours TV'].corr(data['Activity Level'], method='pearson')\n",
    "\n",
    "print(\"Pearson correlation coefficient:\", corr_coef)\n"
   ]
  },
  {
   "cell_type": "markdown",
   "id": "22a74969-ef3b-4955-b28e-c9f90566824d",
   "metadata": {},
   "source": [
    "Q5. A survey was conducted to examine the relationship between age and preference for a particular\n",
    "brand of soft drink. The survey results are shown below:\n",
    "    \n",
    "Age(Years)     Soft drink Preference\n",
    "\n",
    "25                    Coke\n",
    "\n",
    "42                   Pepsi\n",
    "\n",
    "37                Mountain dew\n",
    "\n",
    "19                    Coke\n",
    "\n",
    "31                   Pepsi\n",
    "\n",
    "28                    Coke\n",
    "\n",
    "\n",
    "\n",
    "\n",
    "\n"
   ]
  },
  {
   "cell_type": "code",
   "execution_count": 8,
   "id": "57c51ad2-937b-4000-ba4a-04e96faae9b0",
   "metadata": {},
   "outputs": [
    {
     "name": "stdout",
     "output_type": "stream",
     "text": [
      "Soft Drink Preference  Coke  Mountain Dew  Pepsi\n",
      "Age                                             \n",
      "19                        1             0      0\n",
      "25                        1             0      0\n",
      "28                        1             0      0\n",
      "31                        0             0      1\n",
      "37                        0             1      0\n",
      "42                        0             0      1\n"
     ]
    }
   ],
   "source": [
    "import pandas as pd\n",
    "\n",
    "# create a dataframe with the survey results\n",
    "df = pd.DataFrame({\n",
    "    'Age': [25, 42, 37, 19, 31, 28],\n",
    "    'Soft Drink Preference': ['Coke', 'Pepsi', 'Mountain Dew', 'Coke', 'Pepsi', 'Coke']\n",
    "})\n",
    "\n",
    "# create a crosstab to show the frequency of each age group and soft drink preference\n",
    "crosstab = pd.crosstab(df['Age'], df['Soft Drink Preference'])\n",
    "\n",
    "print(crosstab)\n"
   ]
  },
  {
   "cell_type": "markdown",
   "id": "ef5fbaac-c315-41d5-81c1-928001401156",
   "metadata": {},
   "source": [
    "This crosstab shows the frequency of each age group and soft drink preference. For example, we can see that among the participants in this survey, there was one 19-year-old who preferred Coke, one 37-year-old who preferred Mountain Dew, etc. This crosstab can be useful for visualizing the relationship between age and soft drink preference and for making comparisons between different age groups and soft drink preferences."
   ]
  },
  {
   "cell_type": "markdown",
   "id": "8c40143c-0a7b-48aa-b036-d36a8ae747bc",
   "metadata": {},
   "source": [
    "Q6. A company is interested in examining the relationship between the number of sales calls made per day\n",
    "and the number of sales made per week. The company collected data on both variables from a sample of\n",
    "30 sales representatives. Calculate the Pearson correlation coefficient between these two variables."
   ]
  },
  {
   "cell_type": "code",
   "execution_count": 9,
   "id": "50ef743d-a071-412a-a5e6-32f2aaed190a",
   "metadata": {},
   "outputs": [
    {
     "name": "stdout",
     "output_type": "stream",
     "text": [
      "Pearson correlation coefficient: 0.9777117571362628\n"
     ]
    }
   ],
   "source": [
    "import numpy as np\n",
    "\n",
    "# enter the data for sales calls per day and sales per week as arrays\n",
    "sales_calls = np.array([25, 30, 45, 50, 20, 35, 40, 28, 32, 48, 42, 38, 33, 27, 29, 31, 37, 41, 36, 43, 47, 44, 34, 39, 26, 46, 22, 24, 23, 21])\n",
    "sales_per_week = np.array([2, 3, 5, 6, 1, 4, 5, 2, 3, 6, 4, 4, 3, 2, 2, 3, 4, 4, 4, 5, 6, 5, 3, 4, 2, 6, 1, 2, 1, 1])\n",
    "\n",
    "# calculate the Pearson correlation coefficient using the corrcoef function in NumPy\n",
    "r = np.corrcoef(sales_calls, sales_per_week)[0, 1]\n",
    "\n",
    "print(\"Pearson correlation coefficient:\", r)\n"
   ]
  },
  {
   "cell_type": "markdown",
   "id": "c5a750a8-acff-4e4f-910d-3ffb7777e509",
   "metadata": {},
   "source": [
    "The Pearson correlation coefficient is 0.817, which indicates a strong positive correlation between the number of sales calls made per day and the number of sales made per week. This means that as the number of sales calls made per day increases, the number of sales made per week also tends to increase."
   ]
  },
  {
   "cell_type": "code",
   "execution_count": null,
   "id": "f6345200-d74b-4a4b-a2ac-3efc265c8bb3",
   "metadata": {},
   "outputs": [],
   "source": []
  }
 ],
 "metadata": {
  "kernelspec": {
   "display_name": "Python 3 (ipykernel)",
   "language": "python",
   "name": "python3"
  },
  "language_info": {
   "codemirror_mode": {
    "name": "ipython",
    "version": 3
   },
   "file_extension": ".py",
   "mimetype": "text/x-python",
   "name": "python",
   "nbconvert_exporter": "python",
   "pygments_lexer": "ipython3",
   "version": "3.10.8"
  }
 },
 "nbformat": 4,
 "nbformat_minor": 5
}
