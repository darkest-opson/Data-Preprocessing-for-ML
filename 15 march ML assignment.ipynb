{
 "cells": [
  {
   "cell_type": "markdown",
   "id": "02984ee8-b0d6-433f-940a-96a75e20b600",
   "metadata": {},
   "source": [
    "Ans 1 : \n",
    "\n",
    "AI : smart applications that can perform its own task without help of humans.\n",
    "\n",
    "ML : Subset of AI that perform statistcal , graphical analysis for prediction of model and forecasting.\n",
    "\n",
    "DL : Subset of ML that mimics human brain. like multilevel neural networks\n"
   ]
  },
  {
   "cell_type": "markdown",
   "id": "91fa9af8-0785-4d8c-9f4b-33ef63d729f3",
   "metadata": {},
   "source": [
    "Ans 2:\n",
    "\n",
    "Superwised learning : Type of machine learning where labels are known for training set of data is called superwise learning.\n",
    "\n",
    "two types : \n",
    "\n",
    "1: Regression : in this type the labels are continuous values\n",
    "    \n",
    "    Eg. Prediction of house prices.\n",
    "\n",
    "2 : Classification : in this type the labels are belongs to a particular category\n",
    "\n",
    "    Eg. Name of species of flower in iris dataset\n",
    "    "
   ]
  },
  {
   "cell_type": "markdown",
   "id": "b1beb483-3bea-4d3c-aff6-9721114b7c11",
   "metadata": {},
   "source": [
    "Ans 3:\n",
    "    \n",
    "Unsupervised learning, also known as unsupervised machine learning, uses machine learning algorithms to analyze and cluster unlabeled datasets. These algorithms discover hidden patterns or data groupings without the need for human intervention.\n",
    "\n",
    "    There are various examples of Unsupervised Learning which are as follows −\n",
    "\n",
    "Organize computing clusters − The geographic areas of servers is determined on the basis of clustering of web requests received from a specific area of the world. The local server will include only the data frequently created by people of that region.\n",
    "\n",
    "Social network analysis − Social network analysis is conducted to make clusters of friends depends on the frequency of connection between them. Such analysis reveals the links between the users of some social networking website.\n",
    "\n",
    "Market segmentation − Sales organizations can cluster or group their users into multiple segments on the basis of their prior billed items. For instance, a big superstore can required to send an SMS about grocery elements specifically to its users of grocery rather than sending that SMS to all its users."
   ]
  },
  {
   "cell_type": "markdown",
   "id": "29d8bb6a-201a-4a88-bb4a-233339e0b63c",
   "metadata": {},
   "source": [
    "Ans4:\n",
    "\n",
    "AI (Artificial Intelligence): AI refers to the simulation of intelligent behavior in machines, usually through algorithms and computer programs. AI systems can learn from experience, make decisions, and perform tasks that would typically require human intelligence. AI is the overarching field that includes both machine learning and deep learning.\n",
    "\n",
    "ML (Machine Learning): ML is a subset of AI that involves training algorithms to learn patterns in data without being explicitly programmed. In other words, the machine learns from data without being told exactly what to do. The algorithms use statistical techniques to improve performance on a specific task over time.\n",
    "\n",
    "DL (Deep Learning): DL is a subset of ML that involves using neural networks to learn from large amounts of data. Neural networks are composed of layers of interconnected nodes that process data and make predictions. Deep learning algorithms can automatically learn to identify patterns in data and can achieve state-of-the-art performance on many tasks, such as image recognition and natural language processing.\n",
    "\n",
    "DS (Data Science): DS is an interdisciplinary field that involves using scientific methods, processes, algorithms, and systems to extract knowledge and insights from structured and unstructured data. It combines elements of statistics, mathematics, computer science, and domain-specific knowledge to understand complex phenomena and make predictions. Data science includes both machine learning and deep learning as subfields."
   ]
  },
  {
   "cell_type": "markdown",
   "id": "8611cd2e-dcef-4cc1-915a-ccab68a58027",
   "metadata": {},
   "source": [
    "Ans 5:\n",
    "\n",
    "Supervised Learning: Supervised learning is a type of machine learning where the algorithm is trained using labeled data, meaning the input data is already tagged with the correct output. The algorithm learns to map inputs to outputs based on the labeled examples. Supervised learning is used in applications such as image recognition, speech recognition, and natural language processing.\n",
    "\n",
    "Unsupervised Learning: Unsupervised learning is a type of machine learning where the algorithm is trained on unlabeled data, meaning there is no pre-existing correct output. The algorithm tries to identify patterns and structure in the data by clustering similar data points together or reducing the dimensionality of the data. Unsupervised learning is used in applications such as anomaly detection, data compression, and market segmentation.\n",
    "\n",
    "Semi-Supervised Learning: Semi-supervised learning is a type of machine learning that uses both labeled and unlabeled data to train the algorithm. The algorithm learns from the labeled data and then uses the unlabeled data to improve its accuracy. Semi-supervised learning is useful when it is expensive or time-consuming to label data."
   ]
  },
  {
   "cell_type": "markdown",
   "id": "81f643b3-3c6d-4238-ae8d-c98793960082",
   "metadata": {},
   "source": [
    "Ans 6:\n",
    "\n",
    "In machine learning, a typical workflow involves splitting the available data into three different sets: training set, validation set, and test set. Here's a brief explanation of each term:\n",
    "\n",
    "Training Set: The training set is the subset of the data used to train the machine learning model. The model learns from the training set by adjusting its parameters to minimize the difference between the predicted output and the actual output.\n",
    "\n",
    "Validation Set: The validation set is a subset of the data used to evaluate the performance of the model during training. The model is not trained on the validation set, but rather it is used to tune the hyperparameters of the model and prevent overfitting. Overfitting occurs when the model performs well on the training set but poorly on new, unseen data.\n",
    "\n",
    "Test Set: The test set is a subset of the data used to evaluate the performance of the trained machine learning model. The test set is used after the model is fully trained and tuned on the training and validation sets. The performance of the model on the test set provides an estimate of how well the model will perform on new, unseen data."
   ]
  },
  {
   "cell_type": "markdown",
   "id": "b9eaba43-5cb4-407f-a368-71c8ca8e3bd8",
   "metadata": {},
   "source": [
    "Ans 7:\n",
    "\n",
    "Unsupervised learning can be used in anomaly detection by identifying patterns or outliers in the data that deviate significantly from the normal behavior. Here's a brief explanation of how unsupervised learning can be used for anomaly detection:\n",
    "\n",
    "Clustering: Unsupervised learning algorithms such as k-means clustering or hierarchical clustering can be used to group similar data points together. Anomalies can be identified as data points that do not fit well into any of the clusters or are very far from the centroid of their cluster.\n",
    "\n",
    "Density-Based Methods: Density-based methods such as Local Outlier Factor (LOF) or Isolation Forest can be used to identify anomalies based on their density in the data. Anomalies are data points that have a significantly lower density than the rest of the data.\n",
    "\n",
    "Dimensionality Reduction: Unsupervised learning algorithms such as Principal Component Analysis (PCA) or t-distributed Stochastic Neighbor Embedding (t-SNE) can be used to reduce the dimensionality of the data and visualize it in a lower-dimensional space. Anomalies can be identified as data points that are far from the rest of the data in the lower-dimensional space."
   ]
  },
  {
   "cell_type": "markdown",
   "id": "60c4b566-1a7d-4b3a-964c-0a85d0fc1a05",
   "metadata": {},
   "source": [
    "Ans 8\n",
    "\n",
    "Here are some commonly used supervised and unsupervised learning algorithms:\n",
    "\n",
    "Supervised Learning Algorithms:\n",
    "\n",
    "1.Linear Regression\n",
    "\n",
    "2.Logistic Regression\n",
    "\n",
    "3.Decision Trees\n",
    "\n",
    "4.Random Forest\n",
    "\n",
    "5.Gradient Boosting Machines\n",
    "\n",
    "6.Support Vector Machines (SVM)\n",
    "\n",
    "7.Naive Bayes\n",
    "\n",
    "8.K-Nearest Neighbors (KNN)\n",
    "\n",
    "\n",
    "\n",
    "Unsupervised Learning Algorithms:\n",
    "\n",
    "1.K-Means Clustering\n",
    "\n",
    "2.Hierarchical Clustering\n",
    "\n",
    "3.Density-Based Spatial Clustering of Applications with Noise (DBSCAN)\n",
    "\n",
    "4.Isolation Forest\n",
    "\n",
    "5.Principal Component Analysis (PCA)\n",
    "\n",
    "6.t-distributed Stochastic Neighbor Embedding (t-SNE)\n",
    "\n",
    "7.Independent Component Analysis (ICA)\n",
    "\n",
    "8.Gaussian Mixture Models (GMM)\n",
    "\n",
    "9.Autoencoders"
   ]
  }
 ],
 "metadata": {
  "kernelspec": {
   "display_name": "Python 3 (ipykernel)",
   "language": "python",
   "name": "python3"
  },
  "language_info": {
   "codemirror_mode": {
    "name": "ipython",
    "version": 3
   },
   "file_extension": ".py",
   "mimetype": "text/x-python",
   "name": "python",
   "nbconvert_exporter": "python",
   "pygments_lexer": "ipython3",
   "version": "3.10.8"
  }
 },
 "nbformat": 4,
 "nbformat_minor": 5
}
